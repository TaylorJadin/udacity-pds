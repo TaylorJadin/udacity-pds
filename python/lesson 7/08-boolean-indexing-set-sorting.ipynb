{
 "cells": [
  {
   "cell_type": "markdown",
   "metadata": {},
   "source": [
    "Up to now we have seen how to make slices and select elements of an ndarray using indices. This is useful when we know the exact indices of the elements we want to select. However, there are many situations in which we don't know the indices of the elements we want to select."
   ]
  },
  {
   "cell_type": "code",
   "execution_count": 2,
   "metadata": {},
   "outputs": [],
   "source": [
    "import numpy as np"
   ]
  },
  {
   "cell_type": "code",
   "execution_count": 3,
   "metadata": {},
   "outputs": [
    {
     "name": "stdout",
     "output_type": "stream",
     "text": [
      "\n",
      "Original X = \n",
      " [[ 0  1  2  3  4]\n",
      " [ 5  6  7  8  9]\n",
      " [10 11 12 13 14]\n",
      " [15 16 17 18 19]\n",
      " [20 21 22 23 24]]\n",
      "\n",
      "The elements in X that are greater than 10: [11 12 13 14 15 16 17 18 19 20 21 22 23 24]\n",
      "The elements in X that less than or equal to 7: [0 1 2 3 4 5 6 7]\n",
      "The elements in X that are between 10 and 17: [11 12 13 14 15 16]\n",
      "\n",
      "X = \n",
      " [[ 0  1  2  3  4]\n",
      " [ 5  6  7  8  9]\n",
      " [10 -1 -1 -1 -1]\n",
      " [-1 -1 17 18 19]\n",
      " [20 21 22 23 24]]\n",
      "\n"
     ]
    }
   ],
   "source": [
    "# We create a 5 x 5 ndarray that contains integers from 0 to 24\n",
    "X = np.arange(25).reshape(5, 5)\n",
    "\n",
    "# We print X\n",
    "print()\n",
    "print('Original X = \\n', X)\n",
    "print()\n",
    "\n",
    "# We use Boolean indexing to select elements in X:\n",
    "print('The elements in X that are greater than 10:', X[X > 10])\n",
    "print('The elements in X that less than or equal to 7:', X[X <= 7])\n",
    "print('The elements in X that are between 10 and 17:', X[(X > 10) & (X < 17)])\n",
    "\n",
    "# We use Boolean indexing to assign the elements that are between 10 and 17 the value of -1\n",
    "X[(X > 10) & (X < 17)] = -1\n",
    "\n",
    "# We print X\n",
    "print()\n",
    "print('X = \\n', X)\n",
    "print()"
   ]
  },
  {
   "cell_type": "markdown",
   "metadata": {},
   "source": [
    "set operations allow us to compare ndarrays:"
   ]
  },
  {
   "cell_type": "code",
   "execution_count": 4,
   "metadata": {},
   "outputs": [
    {
     "name": "stdout",
     "output_type": "stream",
     "text": [
      "\n",
      "x =  [1 2 3 4 5]\n",
      "\n",
      "y =  [6 7 2 8 4]\n",
      "\n",
      "The elements that are both in x and y: [2 4]\n",
      "The elements that are in x that are not in y: [1 3 5]\n",
      "All the elements of x and y: [1 2 3 4 5 6 7 8]\n"
     ]
    }
   ],
   "source": [
    "# We create a rank 1 ndarray\n",
    "x = np.array([1,2,3,4,5])\n",
    "\n",
    "# We create a rank 1 ndarray\n",
    "y = np.array([6,7,2,8,4])\n",
    "\n",
    "# We print x\n",
    "print()\n",
    "print('x = ', x)\n",
    "\n",
    "# We print y\n",
    "print()\n",
    "print('y = ', y)\n",
    "\n",
    "# We use set operations to compare x and y:\n",
    "print()\n",
    "print('The elements that are both in x and y:', np.intersect1d(x,y))\n",
    "print('The elements that are in x that are not in y:', np.setdiff1d(x,y))\n",
    "print('All the elements of x and y:',np.union1d(x,y))"
   ]
  },
  {
   "cell_type": "markdown",
   "metadata": {},
   "source": [
    "sort ndarrays:"
   ]
  },
  {
   "cell_type": "code",
   "execution_count": 5,
   "metadata": {},
   "outputs": [
    {
     "name": "stdout",
     "output_type": "stream",
     "text": [
      "\n",
      "Original x =  [ 7  2  7  2  8  1  8  1 10  4]\n",
      "\n",
      "Sorted x (out of place): [ 1  1  2  2  4  7  7  8  8 10]\n",
      "\n",
      "x after sorting: [ 7  2  7  2  8  1  8  1 10  4]\n"
     ]
    }
   ],
   "source": [
    "# We create an unsorted rank 1 ndarray\n",
    "x = np.random.randint(1,11,size=(10,))\n",
    "\n",
    "# We print x\n",
    "print()\n",
    "print('Original x = ', x)\n",
    "\n",
    "# We sort x and print the sorted array using sort as a function.\n",
    "print()\n",
    "print('Sorted x (out of place):', np.sort(x))\n",
    "\n",
    "# When we sort out of place the original array remains intact. To see this we print x again\n",
    "print()\n",
    "print('x after sorting:', x)"
   ]
  },
  {
   "cell_type": "markdown",
   "metadata": {},
   "source": [
    "combine sort and unique!"
   ]
  },
  {
   "cell_type": "code",
   "execution_count": 7,
   "metadata": {},
   "outputs": [
    {
     "name": "stdout",
     "output_type": "stream",
     "text": [
      "[1 5 6 7 9]\n"
     ]
    }
   ],
   "source": [
    "# We sort x but only keep the unique elements in x\n",
    "print(np.sort(np.unique(x)))"
   ]
  },
  {
   "cell_type": "markdown",
   "metadata": {},
   "source": [
    "we can also sort ndarrays in polace by using sort as a method:"
   ]
  },
  {
   "cell_type": "code",
   "execution_count": 8,
   "metadata": {},
   "outputs": [
    {
     "name": "stdout",
     "output_type": "stream",
     "text": [
      "\n",
      "Original x =  [6 9 2 4 2 7 3 5 4 1]\n",
      "\n",
      "x after sorting: [1 2 2 3 4 4 5 6 7 9]\n"
     ]
    }
   ],
   "source": [
    "# We create an unsorted rank 1 ndarray\n",
    "x = np.random.randint(1,11,size=(10,))\n",
    "\n",
    "# We print x\n",
    "print()\n",
    "print('Original x = ', x)\n",
    "\n",
    "# We sort x and print the sorted array using sort as a method.\n",
    "x.sort()\n",
    "\n",
    "# When we sort in place the original array is changed to the sorted array. To see this we print x again\n",
    "print()\n",
    "print('x after sorting:', x)"
   ]
  },
  {
   "cell_type": "markdown",
   "metadata": {},
   "source": [
    "If we are using rank 2 ndarrays when using sort we need to specify axis"
   ]
  },
  {
   "cell_type": "code",
   "execution_count": 9,
   "metadata": {},
   "outputs": [
    {
     "name": "stdout",
     "output_type": "stream",
     "text": [
      "\n",
      "Original X = \n",
      " [[ 6  1  4  4  4]\n",
      " [ 8  2  4  8 10]\n",
      " [10  9  1  2  4]\n",
      " [ 5  8 10  9  7]\n",
      " [ 9  5 10  6  6]]\n",
      "\n",
      "\n",
      "X with sorted columns :\n",
      " [[ 5  1  1  2  4]\n",
      " [ 6  2  4  4  4]\n",
      " [ 8  5  4  6  6]\n",
      " [ 9  8 10  8  7]\n",
      " [10  9 10  9 10]]\n",
      "\n",
      "X with sorted rows :\n",
      " [[ 1  4  4  4  6]\n",
      " [ 2  4  8  8 10]\n",
      " [ 1  2  4  9 10]\n",
      " [ 5  7  8  9 10]\n",
      " [ 5  6  6  9 10]]\n"
     ]
    }
   ],
   "source": [
    "# We create an unsorted rank 2 ndarray\n",
    "X = np.random.randint(1,11,size=(5,5))\n",
    "\n",
    "# We print X\n",
    "print()\n",
    "print('Original X = \\n', X)\n",
    "print()\n",
    "\n",
    "# We sort the columns of X and print the sorted array\n",
    "print()\n",
    "print('X with sorted columns :\\n', np.sort(X, axis = 0))\n",
    "\n",
    "# We sort the rows of X and print the sorted array\n",
    "print()\n",
    "print('X with sorted rows :\\n', np.sort(X, axis = 1))"
   ]
  },
  {
   "cell_type": "code",
   "execution_count": null,
   "metadata": {},
   "outputs": [],
   "source": []
  }
 ],
 "metadata": {
  "kernelspec": {
   "display_name": "Python 3",
   "language": "python",
   "name": "python3"
  },
  "language_info": {
   "codemirror_mode": {
    "name": "ipython",
    "version": 3
   },
   "file_extension": ".py",
   "mimetype": "text/x-python",
   "name": "python",
   "nbconvert_exporter": "python",
   "pygments_lexer": "ipython3",
   "version": "3.7.3"
  }
 },
 "nbformat": 4,
 "nbformat_minor": 2
}
